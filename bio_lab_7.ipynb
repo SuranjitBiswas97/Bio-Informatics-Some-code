{
 "cells": [
  {
   "cell_type": "markdown",
   "metadata": {},
   "source": [
    "# BA4A -Translate an RNA String into an Amino Acid String"
   ]
  },
  {
   "cell_type": "code",
   "execution_count": 28,
   "metadata": {},
   "outputs": [
    {
     "name": "stdout",
     "output_type": "stream",
     "text": [
      "MAMAPRTEINSTRING\n"
     ]
    }
   ],
   "source": [
    "def rna_to_amino_acid(rna):\n",
    "    st=[]\n",
    "    for i in range(0,len(rna)-1,3):\n",
    "        if(codon[rna[i:i+3]]=='Stop'):\n",
    "            continue\n",
    "        st.append(codon[rna[i:i+3]])\n",
    "        \n",
    "    print(''.join(st))\n",
    "with open('rna_codons.txt') as f:\n",
    "    table = f.read().split()\n",
    "    codon = dict(zip(table[::2],table [1::2]))\n",
    "rna= \"AUGGCCAUGGCGCCCAGAACUGAGAUCAAUAGUACCCGUAUUAACGGGUGA\"\n",
    "rna_to_amino_acid(rna)"
   ]
  },
  {
   "cell_type": "markdown",
   "metadata": {},
   "source": [
    "# BA4B - Find Substrings of a Genome Encoding a Given Amino Acid String"
   ]
  },
  {
   "cell_type": "code",
   "execution_count": 29,
   "metadata": {},
   "outputs": [
    {
     "name": "stdout",
     "output_type": "stream",
     "text": [
      "ATGGCC\n",
      "GGCCAT\n",
      "ATGGCC\n"
     ]
    }
   ],
   "source": [
    "def reverse_com(dna):\n",
    "    dict = {'A':'T', 'T':'A', 'C':'G','G':'C'}\n",
    "    s=''\n",
    "    st =dna[::-1]\n",
    "    for i in st:\n",
    "        s+=''.join(dict[i])\n",
    "    return s\n",
    "\n",
    "def check(dna,pep):\n",
    "    st =''\n",
    "    for i in range(0,len(dna)-1,3):\n",
    "        st+=''.join(codon[dna[i:i+3]])\n",
    "    return st== pep\n",
    "def dna_to_amino_acid(dna,pep):\n",
    "    \n",
    "    l= len(pep)*3\n",
    "    arr=[]\n",
    "    for i in range(len(dna)-l+1):\n",
    "        st=dna[i:i+l]\n",
    "        re_st=reverse_com(st)\n",
    "        a=check(st,pep)\n",
    "        b=check(re_st,pep)\n",
    "        if(a):\n",
    "            arr.append(st)\n",
    "        if(b):\n",
    "            arr.append(st)\n",
    "    print('\\n'.join(arr))\n",
    "    \n",
    "with open('dna_codons.txt') as f:\n",
    "    table = f.read().split()\n",
    "    codon = dict(zip(table[::2],table [1::2]))\n",
    "        \n",
    "dna =\"ATGGCCATGGCCCCCAGAACTGAGATCAATAGTACCCGTATTAACGGGTGA\"\n",
    "pep=\"MA\"\n",
    "dna_to_amino_acid(dna,pep)"
   ]
  },
  {
   "cell_type": "markdown",
   "metadata": {},
   "source": [
    "# BA4C - Generate the Theoretical Spectrum of a Cyclic Peptide"
   ]
  },
  {
   "cell_type": "code",
   "execution_count": 30,
   "metadata": {},
   "outputs": [
    {
     "name": "stdout",
     "output_type": "stream",
     "text": [
      "{'A': 71, 'C': 103, 'D': 115, 'E': 129, 'F': 147, 'G': 57, 'H': 137, 'I': 113, 'K': 128, 'L': 113, 'M': 131, 'N': 114, 'P': 97, 'Q': 128, 'R': 156, 'S': 87, 'T': 101, 'V': 99, 'W': 186, 'Y': 163}\n"
     ]
    },
    {
     "data": {
      "text/plain": [
       "[0, 113, 114, 128, 129, 227, 242, 242, 257, 355, 356, 370, 371, 484]"
      ]
     },
     "execution_count": 30,
     "metadata": {},
     "output_type": "execute_result"
    }
   ],
   "source": [
    "import pandas as pd\n",
    "def theoritical_spectrum(pep):\n",
    "    st=''\n",
    "    arr=[]\n",
    "    arr.append(pep)\n",
    "    l=len(pep)\n",
    "    pep=pep+pep\n",
    "    for i in range(l):\n",
    "        for j in range(l):\n",
    "            st=pep[j:j+i]\n",
    "            arr.append(st)\n",
    "    arr=set(arr)\n",
    "    theoritical_spectrum=[]\n",
    "    for st in arr:\n",
    "        m=0\n",
    "        for i in st:\n",
    "            m+= mass[i]\n",
    "        theoritical_spectrum.append(m)\n",
    "    return sorted(theoritical_spectrum)\n",
    "df=pd.read_csv('integer_mass_table.txt', header= None, delim_whitespace=True)\n",
    "mass= dict(zip(df[0],df[1]))\n",
    "print(mass)        \n",
    "pep='LEQN'\n",
    "theoritical_spectrum(pep)"
   ]
  },
  {
   "cell_type": "code",
   "execution_count": null,
   "metadata": {},
   "outputs": [],
   "source": []
  }
 ],
 "metadata": {
  "kernelspec": {
   "display_name": "Python 3",
   "language": "python",
   "name": "python3"
  },
  "language_info": {
   "codemirror_mode": {
    "name": "ipython",
    "version": 3
   },
   "file_extension": ".py",
   "mimetype": "text/x-python",
   "name": "python",
   "nbconvert_exporter": "python",
   "pygments_lexer": "ipython3",
   "version": "3.7.1"
  }
 },
 "nbformat": 4,
 "nbformat_minor": 2
}
