{
 "cells": [
  {
   "cell_type": "markdown",
   "metadata": {},
   "source": [
    "# 1st Lab(18-09-2019)"
   ]
  },
  {
   "cell_type": "markdown",
   "metadata": {},
   "source": [
    "# BA1C - Find the Reverse Complement of a String"
   ]
  },
  {
   "cell_type": "code",
   "execution_count": 19,
   "metadata": {},
   "outputs": [
    {
     "name": "stdout",
     "output_type": "stream",
     "text": [
      "TTTTGGGCCA"
     ]
    }
   ],
   "source": [
    "def rev_complement(dna):\n",
    "    rev_dna=[]\n",
    "    for i in range(len(dna)):\n",
    "        if dna[i]=='A':\n",
    "            rev_dna.append('T')\n",
    "        elif dna[i]=='C':\n",
    "            rev_dna.append('G')\n",
    "        elif dna[i]=='G':\n",
    "            rev_dna.append('C')\n",
    "        elif dna[i]=='T':\n",
    "            rev_dna.append('A')\n",
    "    \n",
    "    for i in rev_dna:\n",
    "        print(i, end='')\n",
    "    \n",
    "dna=\"AAAACCCGGT\"\n",
    "rev_complement(dna)"
   ]
  },
  {
   "cell_type": "markdown",
   "metadata": {},
   "source": [
    "# 2nd Lab(25.09.2019)"
   ]
  },
  {
   "cell_type": "markdown",
   "metadata": {},
   "source": [
    "# Task 01 - Random DNA"
   ]
  },
  {
   "cell_type": "code",
   "execution_count": 3,
   "metadata": {},
   "outputs": [
    {
     "data": {
      "text/plain": [
       "'GCGGTAAGTG'"
      ]
     },
     "execution_count": 3,
     "metadata": {},
     "output_type": "execute_result"
    }
   ],
   "source": [
    "import random\n",
    "\n",
    "def randomDNA(length):\n",
    "    \n",
    "    return (''.join(random.choice('ATCG') for _ in range(length)))\n",
    "\n",
    "randomDNA(10)"
   ]
  },
  {
   "cell_type": "markdown",
   "metadata": {},
   "source": [
    "# Task 02 - BA1C"
   ]
  },
  {
   "cell_type": "code",
   "execution_count": 4,
   "metadata": {},
   "outputs": [
    {
     "data": {
      "text/plain": [
       "'ACCGGGTTTT'"
      ]
     },
     "execution_count": 4,
     "metadata": {},
     "output_type": "execute_result"
    }
   ],
   "source": [
    "def rev_complement(dna):\n",
    "    reverse_mapping={'A':'T', 'T':'A', 'C':'G', 'G':'C'}\n",
    "    s=''\n",
    "    \n",
    "    for i in range(len(dna)-1,-1,-1):# loop of dna in reverse\n",
    "        s+=reverse_mapping[dna[i]] #map of dna[i] or complement\n",
    "    \n",
    "    return s #the reverse complement string\n",
    "    \n",
    "rev_complement('AAAACCCGGT')"
   ]
  },
  {
   "cell_type": "markdown",
   "metadata": {},
   "source": [
    "# Task 03 - BA1A"
   ]
  },
  {
   "cell_type": "code",
   "execution_count": 5,
   "metadata": {},
   "outputs": [
    {
     "data": {
      "text/plain": [
       "2"
      ]
     },
     "execution_count": 5,
     "metadata": {},
     "output_type": "execute_result"
    }
   ],
   "source": [
    "def pattern_occurance(dna, pattern):\n",
    "    \n",
    "    k=len(pattern)\n",
    "    count=0\n",
    "    for i in range(len(dna)-k+1): #len(dna)=5, k=3, loop = 0 to (5-3+1)\n",
    "        s=dna[i:i+k] #portion of dna, size like pattern\n",
    "        #print(i) #index of loop\n",
    "        #print(s) #string of dna, size like pattern\n",
    "        if s==pattern:\n",
    "            count=count+1\n",
    "    return count\n",
    "pattern_occurance('GCGCG', 'GCG')"
   ]
  },
  {
   "cell_type": "markdown",
   "metadata": {},
   "source": [
    "# Task 04 - BA1D"
   ]
  },
  {
   "cell_type": "code",
   "execution_count": 6,
   "metadata": {},
   "outputs": [],
   "source": [
    "def pattern_occurance(pattern, genome):\n",
    "    \n",
    "    k=len(pattern)\n",
    "    count=0\n",
    "    for i in range(len(genome)-k+1): #len(genome)=17, k=4, loop = 0 to (17-4+1)\n",
    "        s=genome[i:i+k] #portion of genome, size like pattern\n",
    "        #print(i) #index of loop\n",
    "        #print(s) #string of genome, size like pattern\n",
    "        if s==pattern:\n",
    "            print(i, end=' ')\n",
    "            \n",
    "pattern_occurance('TCTAACCTC', 'GATATATGCATATACTT')"
   ]
  },
  {
   "cell_type": "markdown",
   "metadata": {},
   "source": [
    "# Task 04 - BA1B"
   ]
  },
  {
   "cell_type": "code",
   "execution_count": 7,
   "metadata": {},
   "outputs": [
    {
     "name": "stdout",
     "output_type": "stream",
     "text": [
      "AATGAGCGAGT ATGAGCGAGTA "
     ]
    }
   ],
   "source": [
    "def most_frequent_word_occurance(dna, k):\n",
    "    \n",
    "    d={}\n",
    "    max_count=0\n",
    "    for i in range(len(dna)-k+1): #len(genome)=17, k=4, loop = 0 to (17-4+1)\n",
    "        s=dna[i:i+k] #portion of genome, size like pattern\n",
    "        #print(i) #index of loop\n",
    "        #print(s) #string of genome, size like pattern\n",
    "        count=0\n",
    "        for j in range(len(dna)-k+1):\n",
    "            if s==dna[j:j+k]:\n",
    "                d[s]=0\n",
    "                count=count+1\n",
    "        if max_count<count:\n",
    "            max_count=count\n",
    "    \n",
    "    for i in range(len(dna)-k+1): #len(genome)=17, k=4, loop = 0 to (17-4+1)\n",
    "        s=dna[i:i+k] #portion of genome, size like pattern\n",
    "        #print(i) #index of loop\n",
    "        #print(s) #string of genome, size like pattern\n",
    "        count=0\n",
    "        for j in range(len(dna)-k+1):\n",
    "            if s==dna[j:j+k]:\n",
    "                count=count+1\n",
    "        if max_count==count and d[s]==0:\n",
    "            d[s]=1\n",
    "            print(s, end=' ')  \n",
    "            \n",
    "most_frequent_word_occurance('TCCAGGCACCCTCAATGCCTTAATGTCCAGGCAATCCAGACATCCAGACTCCAGGCAAGCGAGTACCCTCAATGTCCAGGCACCCTCAATGATCCAGACTCCAGGCAAGCGAGTAATCCAGACAGCGAGTACCCTCAATGAGCGAGTAAGCGAGTAATCCAGACATCCAGACCCCTCAATGTCCAGGCATCCAGGCAAGCGAGTAATCCAGACATCCAGACCCTTAATGCCTTAATGATCCAGACCCCTCAATGCCTTAATGCCTTAATGCCTTAATGCCCTCAATGCCCTCAATGCCCTCAATGTCCAGGCACCTTAATGTCCAGGCAAGCGAGTACCTTAATGCCTTAATGCCCTCAATGAGCGAGTACCTTAATGAGCGAGTAAGCGAGTACCTTAATGATCCAGACAGCGAGTATCCAGGCAAGCGAGTACCTTAATGATCCAGACCCCTCAATGAGCGAGTACCTTAATGTCCAGGCATCCAGGCACCCTCAATGCCCTCAATGCCTTAATGAGCGAGTACCCTCAATGCCCTCAATGATCCAGACAGCGAGTACCCTCAATGCCCTCAATGAGCGAGTAATCCAGACCCTTAATGTCCAGGCACCTTAATGCCCTCAATGAGCGAGTACCCTCAATGAGCGAGTATCCAGGCATCCAGGCACCCTCAATGAGCGAGTACCTTAATGATCCAGACCCCTCAATGCCTTAATGCCCTCAATGTCCAGGCAAGCGAGTATCCAGGCACCCTCAATGAGCGAGTACCTTAATGAGCGAGTACCTTAATGAGCGAGTAAGCGAGTACCTTAATGATCCAGACAGCGAGTACCTTAATGTCCAGGCACCTTAATGATCCAGACTCCAGGCACCTTAATGATCCAGACAGCGAGTAAGCGAGTACCTTAATGTCCAGGCA', 11)"
   ]
  },
  {
   "cell_type": "markdown",
   "metadata": {},
   "source": [
    "# 3rd Lab(16.10.2019)"
   ]
  },
  {
   "cell_type": "markdown",
   "metadata": {},
   "source": [
    "# BA1F"
   ]
  },
  {
   "cell_type": "code",
   "execution_count": 8,
   "metadata": {},
   "outputs": [
    {
     "name": "stdout",
     "output_type": "stream",
     "text": [
      "53\n",
      "97\n"
     ]
    },
    {
     "data": {
      "text/plain": [
       "<Figure size 640x480 with 1 Axes>"
      ]
     },
     "metadata": {},
     "output_type": "display_data"
    }
   ],
   "source": [
    "import matplotlib.pyplot as plt\n",
    "\n",
    "def skew_diagram(dna):\n",
    "    min_diff=1000\n",
    "    diff=0\n",
    "    g_count=0\n",
    "    c_count=0\n",
    "    arr=[]\n",
    "    for i in range(len(dna)):\n",
    "        if(dna[i]=='G'):\n",
    "            g_count=g_count+1\n",
    "        elif(dna[i]=='C'):\n",
    "            c_count=c_count+1\n",
    "        diff=g_count-c_count\n",
    "        if(diff<min_diff):\n",
    "            min_diff=diff\n",
    "        arr.append(diff)\n",
    "    \n",
    "    g_count=0\n",
    "    c_count=0\n",
    "    for i in range(len(dna)):\n",
    "        if(dna[i]=='G'):\n",
    "            g_count=g_count+1\n",
    "        elif(dna[i]=='C'):\n",
    "            c_count=c_count+1\n",
    "        diff=g_count-c_count\n",
    "        if(diff==min_diff):\n",
    "            print(i+1)\n",
    "    plt.plot(arr)\n",
    "    plt.show()\n",
    "dna=\"CCTATCGGTGGATTAGCATGTCCCTGTACGTTTCGCCGCGAACTAGTTCACACGGCTTGATGGCAAATGGTTTTTCCGGCGACCGTAATCGTCCACCGAG\"\n",
    "skew_diagram(dna)"
   ]
  },
  {
   "cell_type": "markdown",
   "metadata": {},
   "source": [
    "# BA1K"
   ]
  },
  {
   "cell_type": "code",
   "execution_count": 9,
   "metadata": {},
   "outputs": [
    {
     "name": "stdout",
     "output_type": "stream",
     "text": [
      "AA\n",
      "AC\n",
      "AG\n",
      "AT\n",
      "CA\n",
      "CC\n",
      "CG\n",
      "CT\n",
      "GA\n",
      "GC\n",
      "GG\n",
      "GT\n",
      "TA\n",
      "TC\n",
      "TG\n",
      "TT\n",
      "2 1 0 0 0 0 2 2 1 2 1 0 0 1 1 0 "
     ]
    }
   ],
   "source": [
    "import itertools\n",
    "\n",
    "def frequency_array_of_a_string(dna, k):\n",
    "    str1=\"ACGT\"\n",
    "    arr=[]\n",
    "    for i in itertools.product(str1, repeat=k):\n",
    "        p=''.join(i)\n",
    "        arr.append(p)\n",
    "        print(p) #all pair k-mer\n",
    "    for i in arr:\n",
    "        count=0\n",
    "        for j in range(len(dna)-k+1):\n",
    "            str2=dna[j:j+k] #substring of dna length = k\n",
    "            if(i==str2):\n",
    "                count=count+1\n",
    "        print(count, end=' ')\n",
    "    \n",
    "dna='ACGCGGCTCTGAAA'\n",
    "k=2\n",
    "frequency_array_of_a_string(dna, k)"
   ]
  },
  {
   "cell_type": "markdown",
   "metadata": {},
   "source": [
    "# BA1L"
   ]
  },
  {
   "cell_type": "code",
   "execution_count": 10,
   "metadata": {},
   "outputs": [
    {
     "name": "stdout",
     "output_type": "stream",
     "text": [
      "11\n"
     ]
    }
   ],
   "source": [
    "import itertools\n",
    "\n",
    "def ImplementPatternToNumber(dna):\n",
    "    k=len(dna)\n",
    "    str1=\"ACGT\"\n",
    "    count=0\n",
    "    for i in itertools.product(str1, repeat=k):\n",
    "        p=''.join(i)\n",
    "        #print(p) #all pair k-mer\n",
    "        if(p==dna):\n",
    "            print(count)\n",
    "            break\n",
    "        count=count+1\n",
    "        \n",
    "    \n",
    "dna='AGT'\n",
    "ImplementPatternToNumber(dna)"
   ]
  },
  {
   "cell_type": "markdown",
   "metadata": {},
   "source": [
    "# BA1M"
   ]
  },
  {
   "cell_type": "code",
   "execution_count": 12,
   "metadata": {},
   "outputs": [
    {
     "name": "stdout",
     "output_type": "stream",
     "text": [
      "AAAACCCTTAC\n"
     ]
    }
   ],
   "source": [
    "import itertools\n",
    "def ImplementNumberToPattern(index, k):\n",
    "    \n",
    "    str1=\"ACGT\"\n",
    "    count=0\n",
    "    for i in itertools.product(str1, repeat=k):\n",
    "        p=''.join(i)\n",
    "        #print(p) #all pair k-mer\n",
    "        if(count==index):\n",
    "            print(p)\n",
    "            break\n",
    "        count=count+1\n",
    "    \n",
    "index=5617\n",
    "k=11\n",
    "ImplementNumberToPattern(index, k)"
   ]
  },
  {
   "cell_type": "markdown",
   "metadata": {},
   "source": [
    "# 4th Lab(30.10.2019)"
   ]
  },
  {
   "cell_type": "markdown",
   "metadata": {},
   "source": [
    "# BA2A"
   ]
  },
  {
   "cell_type": "code",
   "execution_count": 18,
   "metadata": {},
   "outputs": [
    {
     "name": "stdout",
     "output_type": "stream",
     "text": [
      "AACCA AACCC AACGT AAGCC AAGCG AAGGC AATAC AATCC AATCT AATGT AATTC ACATA ACATT ACCAA ACCCC ACCGA ACCGC ACCGT ACCTA ACCTT ACGAG ACGGA ACGTA ACGTG ACTAA ACTCT ACTGA AGAAT AGACT AGAGC AGCAC AGCAT AGCCA AGCCG AGCGA AGCGC AGCGG AGGAG AGGCA AGGGT AGTAG AGTTA ATAGG ATATT ATCAA ATCAC ATCCA ATCTT ATGAC ATGCA ATGCT ATGGA ATTTA ATTTT CAAAG CAACA CAAGC CAATA CAATG CACAT CACGC CAGAG CAGCC CATCA CATTA CATTC CCAAC CCACA CCACC CCATT CCCAC CCCAT CCCCA CCGAA CCGAC CCGCA CCGCC CCGGA CCGTC CCTAC CCTGA CGACC CGATA CGCAA CGCAG CGCGC CGGAA CGGTT CGTAA CGTAT CGTCA CGTCG CTAAA CTAAG CTCTC CTGAA CTTAC GAAAC GAAAG GAACA GAAGC GAAGT GAATG GACAC GACAG GACCG GAGAC GAGAT GAGCA GAGCG GAGTC GATAG GATAT GATGG GCAAG GCACA GCATA GCCAA GCGAC GCGGC GCGTC GCGTT GGAAA GGAGT GGATG GGCAG GGCAT GGCGG GGGAC GGGCC GGGCG GGGGG GGGTG GGTGG GTAAA GTAGA GTGAA GTGGA GTGGT GTGTT GTTCT GTTGG GTTTT TAAAC TAAAG TAACC TAACG TAAGC TAAGT TAATT TACAC TACAG TACAT TACGC TACGT TACTC TAGAC TAGGG TAGTA TATTA TCAAA TCAAG TCATA TCCCA TCGAC TCGAG TCGCG TCTCC TCTTC TGACA TGAGC TGCTT TGGGA TGGGG TGTGA TTAAG TTACA TTAGA TTCTT TTGCT TTTAA TTTAT TTTCT TTTTC TTTTG "
     ]
    },
    {
     "data": {
      "text/plain": [
       "['AACCA',\n",
       " 'AACCC',\n",
       " 'AACGT',\n",
       " 'AAGCC',\n",
       " 'AAGCG',\n",
       " 'AAGGC',\n",
       " 'AATAC',\n",
       " 'AATCC',\n",
       " 'AATCT',\n",
       " 'AATGT',\n",
       " 'AATTC',\n",
       " 'ACATA',\n",
       " 'ACATT',\n",
       " 'ACCAA',\n",
       " 'ACCCC',\n",
       " 'ACCGA',\n",
       " 'ACCGC',\n",
       " 'ACCGT',\n",
       " 'ACCTA',\n",
       " 'ACCTT',\n",
       " 'ACGAG',\n",
       " 'ACGGA',\n",
       " 'ACGTA',\n",
       " 'ACGTG',\n",
       " 'ACTAA',\n",
       " 'ACTCT',\n",
       " 'ACTGA',\n",
       " 'AGAAT',\n",
       " 'AGACT',\n",
       " 'AGAGC',\n",
       " 'AGCAC',\n",
       " 'AGCAT',\n",
       " 'AGCCA',\n",
       " 'AGCCG',\n",
       " 'AGCGA',\n",
       " 'AGCGC',\n",
       " 'AGCGG',\n",
       " 'AGGAG',\n",
       " 'AGGCA',\n",
       " 'AGGGT',\n",
       " 'AGTAG',\n",
       " 'AGTTA',\n",
       " 'ATAGG',\n",
       " 'ATATT',\n",
       " 'ATCAA',\n",
       " 'ATCAC',\n",
       " 'ATCCA',\n",
       " 'ATCTT',\n",
       " 'ATGAC',\n",
       " 'ATGCA',\n",
       " 'ATGCT',\n",
       " 'ATGGA',\n",
       " 'ATTTA',\n",
       " 'ATTTT',\n",
       " 'CAAAG',\n",
       " 'CAACA',\n",
       " 'CAAGC',\n",
       " 'CAATA',\n",
       " 'CAATG',\n",
       " 'CACAT',\n",
       " 'CACGC',\n",
       " 'CAGAG',\n",
       " 'CAGCC',\n",
       " 'CATCA',\n",
       " 'CATTA',\n",
       " 'CATTC',\n",
       " 'CCAAC',\n",
       " 'CCACA',\n",
       " 'CCACC',\n",
       " 'CCATT',\n",
       " 'CCCAC',\n",
       " 'CCCAT',\n",
       " 'CCCCA',\n",
       " 'CCGAA',\n",
       " 'CCGAC',\n",
       " 'CCGCA',\n",
       " 'CCGCC',\n",
       " 'CCGGA',\n",
       " 'CCGTC',\n",
       " 'CCTAC',\n",
       " 'CCTGA',\n",
       " 'CGACC',\n",
       " 'CGATA',\n",
       " 'CGCAA',\n",
       " 'CGCAG',\n",
       " 'CGCGC',\n",
       " 'CGGAA',\n",
       " 'CGGTT',\n",
       " 'CGTAA',\n",
       " 'CGTAT',\n",
       " 'CGTCA',\n",
       " 'CGTCG',\n",
       " 'CTAAA',\n",
       " 'CTAAG',\n",
       " 'CTCTC',\n",
       " 'CTGAA',\n",
       " 'CTTAC',\n",
       " 'GAAAC',\n",
       " 'GAAAG',\n",
       " 'GAACA',\n",
       " 'GAAGC',\n",
       " 'GAAGT',\n",
       " 'GAATG',\n",
       " 'GACAC',\n",
       " 'GACAG',\n",
       " 'GACCG',\n",
       " 'GAGAC',\n",
       " 'GAGAT',\n",
       " 'GAGCA',\n",
       " 'GAGCG',\n",
       " 'GAGTC',\n",
       " 'GATAG',\n",
       " 'GATAT',\n",
       " 'GATGG',\n",
       " 'GCAAG',\n",
       " 'GCACA',\n",
       " 'GCATA',\n",
       " 'GCCAA',\n",
       " 'GCGAC',\n",
       " 'GCGGC',\n",
       " 'GCGTC',\n",
       " 'GCGTT',\n",
       " 'GGAAA',\n",
       " 'GGAGT',\n",
       " 'GGATG',\n",
       " 'GGCAG',\n",
       " 'GGCAT',\n",
       " 'GGCGG',\n",
       " 'GGGAC',\n",
       " 'GGGCC',\n",
       " 'GGGCG',\n",
       " 'GGGGG',\n",
       " 'GGGTG',\n",
       " 'GGTGG',\n",
       " 'GTAAA',\n",
       " 'GTAGA',\n",
       " 'GTGAA',\n",
       " 'GTGGA',\n",
       " 'GTGGT',\n",
       " 'GTGTT',\n",
       " 'GTTCT',\n",
       " 'GTTGG',\n",
       " 'GTTTT',\n",
       " 'TAAAC',\n",
       " 'TAAAG',\n",
       " 'TAACC',\n",
       " 'TAACG',\n",
       " 'TAAGC',\n",
       " 'TAAGT',\n",
       " 'TAATT',\n",
       " 'TACAC',\n",
       " 'TACAG',\n",
       " 'TACAT',\n",
       " 'TACGC',\n",
       " 'TACGT',\n",
       " 'TACTC',\n",
       " 'TAGAC',\n",
       " 'TAGGG',\n",
       " 'TAGTA',\n",
       " 'TATTA',\n",
       " 'TCAAA',\n",
       " 'TCAAG',\n",
       " 'TCATA',\n",
       " 'TCCCA',\n",
       " 'TCGAC',\n",
       " 'TCGAG',\n",
       " 'TCGCG',\n",
       " 'TCTCC',\n",
       " 'TCTTC',\n",
       " 'TGACA',\n",
       " 'TGAGC',\n",
       " 'TGCTT',\n",
       " 'TGGGA',\n",
       " 'TGGGG',\n",
       " 'TGTGA',\n",
       " 'TTAAG',\n",
       " 'TTACA',\n",
       " 'TTAGA',\n",
       " 'TTCTT',\n",
       " 'TTGCT',\n",
       " 'TTTAA',\n",
       " 'TTTAT',\n",
       " 'TTTCT',\n",
       " 'TTTTC',\n",
       " 'TTTTG']"
      ]
     },
     "execution_count": 18,
     "metadata": {},
     "output_type": "execute_result"
    }
   ],
   "source": [
    "import itertools\n",
    "\n",
    "def Hamming_Distance(str, kmer):\n",
    "    \n",
    "    count=0\n",
    "    for i in range(0, len(str)):\n",
    "        if(str[i]!=kmer[i]):\n",
    "            count=count+1\n",
    "    return count\n",
    "\n",
    "def MOTIF_ENUMERATION(DNA, k, d):\n",
    "    \n",
    "    str='ACGT'\n",
    "    list=[]\n",
    "    ans=[]\n",
    "    for i in itertools.product(str, repeat=k):\n",
    "        list.append(''.join(i)) # All pair k-mer\n",
    "    \n",
    "    for i in list:\n",
    "        count=0\n",
    "        for str in DNA:\n",
    "            for j in range(len(str)-k+1):\n",
    "                # find hamming distance for each combination of kmer to each substring of each dna\n",
    "                if(Hamming_Distance(str[j:j+k], i)<=d):\n",
    "                    count=count+1\n",
    "                    break\n",
    "        if(count==10): # if the condition of d-mismatch satisfy for each of the DNA\n",
    "            ans.append(i)\n",
    "            print(i, end=' ')\n",
    "    return ans       \n",
    "\n",
    "DNA=['GCTGAGCCACTCGTAGGACTCCGAA', 'GGTGGGCTCGTTCATCTACGGGTTT', 'CACCTGCTTAAAGAGTTTCCGCTCT',\n",
    "     'TGAATCTTTTGGGGGGCTCCCATTG', 'TACTGCCGGCACCTTGCTTTCTTTA', 'ATGTCGCTAGGGGTCTTCTTGTAAT', \n",
    "     'CGATTTCTGTCCACGAGTAAATCCT', 'CTATTAACCGGAGCACCTGTCAATG', 'GATGCCATTGGCTGAACAGCCCGGA',\n",
    "     'GATTTGCTCAGGAAGTATTATCCCG', 'GTGCAGCTGGACCTGGTATAGGAAC', 'GCTGTGGGTCCCTGGTTGTCGACTG']\n",
    "k=5\n",
    "d=2\n",
    "#Hamming_Distance('ATA', 'ATT')\n",
    "MOTIF_ENUMERATION(DNA, k, d)"
   ]
  },
  {
   "cell_type": "code",
   "execution_count": null,
   "metadata": {},
   "outputs": [],
   "source": []
  },
  {
   "cell_type": "code",
   "execution_count": null,
   "metadata": {},
   "outputs": [],
   "source": []
  },
  {
   "cell_type": "code",
   "execution_count": null,
   "metadata": {},
   "outputs": [],
   "source": []
  }
 ],
 "metadata": {
  "kernelspec": {
   "display_name": "Python 3",
   "language": "python",
   "name": "python3"
  },
  "language_info": {
   "codemirror_mode": {
    "name": "ipython",
    "version": 3
   },
   "file_extension": ".py",
   "mimetype": "text/x-python",
   "name": "python",
   "nbconvert_exporter": "python",
   "pygments_lexer": "ipython3",
   "version": "3.7.1"
  }
 },
 "nbformat": 4,
 "nbformat_minor": 2
}
