{
 "cells": [
  {
   "cell_type": "markdown",
   "metadata": {},
   "source": [
    "# BA2A-Median String"
   ]
  },
  {
   "cell_type": "code",
   "execution_count": 1,
   "metadata": {},
   "outputs": [
    {
     "data": {
      "text/plain": [
       "'AAAAGC'"
      ]
     },
     "execution_count": 1,
     "metadata": {},
     "output_type": "execute_result"
    }
   ],
   "source": [
    "import itertools\n",
    "\n",
    "def Haming_Distance(str,kmer):\n",
    "    count=0\n",
    "    for i in range(0,len(str)):\n",
    "        if (str[i]!=kmer[i]):\n",
    "            count=count+1\n",
    "    return count\n",
    "    \n",
    "def median_string(DNA,k):\n",
    "    ans=\"\"\n",
    "    str=\"ACGT\"\n",
    "    kmer=[]\n",
    "    count=0\n",
    "    for i in itertools.product(str,repeat=k):\n",
    "        kmer.append(''.join(i)) \n",
    "        \n",
    "    min1=10000000\n",
    "    for i in kmer:\n",
    "        sum1=0\n",
    "        for st in DNA:\n",
    "            min2=10000000\n",
    "            for j in range(len(st)-k+1):\n",
    "                str=st[j:j+k]\n",
    "                min2=min(min2, Haming_Distance(str, i)) \n",
    "            sum1=min2+sum1\n",
    "        if sum1<min1:\n",
    "            ans=i\n",
    "            min1=sum1\n",
    "    return ans\n",
    "                     \n",
    "k=6\n",
    "DNA=[\"CTTTTTAACACGTTAGGTCCATCGTTCGACAAGCTTTTTCGTGAGCTTTGTATAGAAGAATGTCGTTACCATATTATGGGCATCTCTGATTGGTTACTTCCCATGTGTTATCGTACTTCGCGCAACCACGTAAGTACGTGTCGTTGATTAAAGCACAGCTTGAGAAGCTCTTTAGACTTCTGTCGTTACATCTTTGCCAGACTTGAAACCTTGGCTTTTCGTAAGGCGCAGCCGGGATTTACCGCCGTGTTTACGGGCCCGCCTTCACCGTATCGTCGTTGGCAACATCCGGGTCCCCTATGAGGTTCTCGTAACAAAAGCGAAAGGAGAAGCCCGTGTCGTGTATGAATCGAGTTGCATGTCACAAAATTCTGACGCAACTAATCACCAAGATGCTTTGCTTGTCGTGCAATTCGGCTC\"]\n",
    "median_string(DNA,k)\n",
    "\n",
    "        "
   ]
  },
  {
   "cell_type": "code",
   "execution_count": null,
   "metadata": {},
   "outputs": [],
   "source": []
  },
  {
   "cell_type": "code",
   "execution_count": null,
   "metadata": {},
   "outputs": [],
   "source": []
  }
 ],
 "metadata": {
  "kernelspec": {
   "display_name": "Python 3",
   "language": "python",
   "name": "python3"
  },
  "language_info": {
   "codemirror_mode": {
    "name": "ipython",
    "version": 3
   },
   "file_extension": ".py",
   "mimetype": "text/x-python",
   "name": "python",
   "nbconvert_exporter": "python",
   "pygments_lexer": "ipython3",
   "version": "3.7.1"
  }
 },
 "nbformat": 4,
 "nbformat_minor": 2
}
