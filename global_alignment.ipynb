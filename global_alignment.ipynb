{
 "cells": [
  {
   "cell_type": "code",
   "execution_count": 1,
   "metadata": {},
   "outputs": [
    {
     "name": "stdout",
     "output_type": "stream",
     "text": [
      "[0, -1, -2, -3, -4, -5, -6]\n",
      "[-1, 0, -1, -2, -3, -4, -3]\n",
      "[-2, 1, 2, 1, 0, -1, -2]\n",
      "[-3, 0, 3, 4, 3, 2, 1]\n",
      "[-4, -1, 2, 3, 4, 3, 4]\n",
      "[-5, -2, 1, 4, 3, 6, 5]\n",
      "[-6, -3, 0, 3, 6, 5, 6]\n",
      "[-7, -4, -1, 2, 5, 8, 7]\n",
      "Alignments:\n",
      "\n",
      "ATTATCT-\n",
      "-TT-TCTA\n"
     ]
    }
   ],
   "source": [
    "match_score=2\n",
    "mismatch_score=0\n",
    "indel=-1\n",
    "seq1='-ATTATCT'\n",
    "seq2='-TTTCTA'\n",
    "#creating 2D Matrix\n",
    "D = []\n",
    "for i in range(len(seq1)):\n",
    "    D.append([0]* (len(seq2)))\n",
    "#inserting value in first row and first column\n",
    "for i in range(1,len(seq1)):\n",
    "    D[i][0]=i*indel\n",
    "for i in range(1,len(seq2)):\n",
    "    D[0][i]=i*indel\n",
    "    \n",
    "#scoring Matrix\n",
    "for i in range(1,len(seq1)):\n",
    "    for j in range(1,len(seq2)):\n",
    "        if seq1[i]==seq2[j]:\n",
    "            dist_diagonal=D[i-1][j-1]+match_score\n",
    "        else:\n",
    "            dist_diagonal=D[i-1][j-1]+mismatch_score\n",
    "        dist_ver=D[i-1][j]+indel\n",
    "        dist_hori=D[i][j-1]+indel\n",
    "        D[i][j]=max(dist_diagonal,dist_ver,dist_hori)\n",
    "for x in D:\n",
    "    print(x)\n",
    "\n",
    "#Allignment\n",
    "i=len(seq1)-1\n",
    "j=len(seq2)-1\n",
    "align1=''\n",
    "align2=''\n",
    "while i>0 or j>0:\n",
    "    if D[i][j]==D[i-1][j]+indel:\n",
    "        align1+=seq1[i]\n",
    "        align2+='-'\n",
    "        i-=1\n",
    "        \n",
    "    elif D[i][j]==D[i][j-1]+indel:\n",
    "        align1+='-'\n",
    "        align2+=seq2[j]\n",
    "        j-=1\n",
    "    else:\n",
    "        align1+=seq1[i]\n",
    "        align2+=seq2[j]\n",
    "        i-=1\n",
    "        j-=1\n",
    "print(\"Alignments:\\n\")\n",
    "print(align1[::-1])\n",
    "print(align2[::-1])"
   ]
  },
  {
   "cell_type": "code",
   "execution_count": null,
   "metadata": {},
   "outputs": [],
   "source": []
  }
 ],
 "metadata": {
  "kernelspec": {
   "display_name": "Python 3",
   "language": "python",
   "name": "python3"
  },
  "language_info": {
   "codemirror_mode": {
    "name": "ipython",
    "version": 3
   },
   "file_extension": ".py",
   "mimetype": "text/x-python",
   "name": "python",
   "nbconvert_exporter": "python",
   "pygments_lexer": "ipython3",
   "version": "3.7.1"
  }
 },
 "nbformat": 4,
 "nbformat_minor": 2
}
