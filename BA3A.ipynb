{
 "cells": [
  {
   "cell_type": "code",
   "execution_count": 15,
   "metadata": {},
   "outputs": [],
   "source": [
    "def Composition(dna,k):\n",
    "    start=0\n",
    "    l=len(dna)\n",
    "    kmer=[]\n",
    "    while start+k <=1:\n",
    "        sub=dna(start,start+k)\n",
    "        kmer.append(sub)\n",
    "        start+=1\n",
    "        \n",
    "    kmer.sort()\n",
    "    kmer_len=len(kmer)\n",
    "    for i in range(kmer_len):\n",
    "        print(kmer[i])\n",
    "        \n",
    "\n",
    "dna='CAATCCAAC'\n",
    "k=5\n",
    "Composition(dna,k)"
   ]
  },
  {
   "cell_type": "code",
   "execution_count": 16,
   "metadata": {},
   "outputs": [],
   "source": [
    "def kmer_Composition(k, string):\n",
    "    arr=[]\n",
    "    \n",
    "    \n",
    "    for i in range(len(string)-k+1):\n",
    "        arr.append(string[i:i+k])\n",
    "    arr.sort()\n",
    "    \n",
    "    return arr\n",
    "\n",
    "k=5\n",
    "string='CAATCCAAC'\n",
    "kmer_Composition=(k, string)\n",
    "    "
   ]
  },
  {
   "cell_type": "code",
   "execution_count": null,
   "metadata": {},
   "outputs": [],
   "source": []
  }
 ],
 "metadata": {
  "kernelspec": {
   "display_name": "Python 3",
   "language": "python",
   "name": "python3"
  },
  "language_info": {
   "codemirror_mode": {
    "name": "ipython",
    "version": 3
   },
   "file_extension": ".py",
   "mimetype": "text/x-python",
   "name": "python",
   "nbconvert_exporter": "python",
   "pygments_lexer": "ipython3",
   "version": "3.7.1"
  }
 },
 "nbformat": 4,
 "nbformat_minor": 2
}
