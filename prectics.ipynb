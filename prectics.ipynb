{
 "cells": [
  {
   "cell_type": "markdown",
   "metadata": {},
   "source": [
    "# kmer_ber_kora"
   ]
  },
  {
   "cell_type": "code",
   "execution_count": 56,
   "metadata": {},
   "outputs": [
    {
     "name": "stdout",
     "output_type": "stream",
     "text": [
      "['ATG', 'TGC', 'GCA', 'CAG', 'AGT', 'GTC', 'TCG']\n",
      "ATG\n",
      "TGC\n",
      "GCA\n",
      "CAG\n",
      "AGT\n",
      "GTC\n",
      "TCG\n"
     ]
    }
   ],
   "source": [
    "def cons(dna,k):\n",
    "    a=[]\n",
    "    for i in range(len(dna)-k+1):\n",
    "        a.append(dna[i:i+k])\n",
    "    #a.sort()\n",
    "    print(a)\n",
    "    for i in a:   \n",
    "        print(i)\n",
    "k=3;\n",
    "dna=\"ATGCAGTCG\"\n",
    "cons(dna,k)"
   ]
  },
  {
   "cell_type": "markdown",
   "metadata": {},
   "source": [
    "# kmer_aksathe_kora"
   ]
  },
  {
   "cell_type": "code",
   "execution_count": 77,
   "metadata": {},
   "outputs": [
    {
     "name": "stdout",
     "output_type": "stream",
     "text": [
      "ACCGAAGCT\n"
     ]
    }
   ],
   "source": [
    "def cons(dna):\n",
    "    a=[]\n",
    "    b=len(dna[0])\n",
    "    a.append(dna[0])\n",
    "    del dna[0]\n",
    "    #a.sort()\n",
    "    #print(a)\n",
    "    for i in dna: \n",
    "        a.append(i[b-1])\n",
    "    print(''.join(a))\n",
    "dna=['ACCGA', 'CCGAA', 'CGAAG', 'GAAGC', 'AAGCT']\n",
    "cons(dna)"
   ]
  },
  {
   "cell_type": "markdown",
   "metadata": {},
   "source": [
    "# randomdna"
   ]
  },
  {
   "cell_type": "code",
   "execution_count": 59,
   "metadata": {},
   "outputs": [
    {
     "data": {
      "text/plain": [
       "'GGTATCAGAG'"
      ]
     },
     "execution_count": 59,
     "metadata": {},
     "output_type": "execute_result"
    }
   ],
   "source": [
    "import random\n",
    "def randomDNA(length):\n",
    "    return (''.join(random.choice('ACGT')for i in range(length)))\n",
    "\n",
    "randomDNA(10)"
   ]
  },
  {
   "cell_type": "code",
   "execution_count": 78,
   "metadata": {},
   "outputs": [
    {
     "name": "stdout",
     "output_type": "stream",
     "text": [
      "TTTGGGCCA\n"
     ]
    }
   ],
   "source": [
    "def rev(dna):\n",
    "    rev_dna=[]\n",
    "    for i in range(len(dna)):\n",
    "        if(dna[i]=='A'):\n",
    "            rev_dna.append('T')\n",
    "        elif(dna[i]=='C'):\n",
    "            rev_dna.append('G')\n",
    "        elif(dna[i]=='T'):\n",
    "            rev_dna.append('A')\n",
    "        elif(dna[i]=='G'):\n",
    "            rev_dna.append('C')\n",
    "            \n",
    "    print(''.join(rev_dna))\n",
    "    \n",
    "dna=\"AAACCCGGT\"\n",
    "rev(dna)\n",
    "            "
   ]
  },
  {
   "cell_type": "code",
   "execution_count": 80,
   "metadata": {},
   "outputs": [
    {
     "name": "stdout",
     "output_type": "stream",
     "text": [
      "ACCGGGTTT\n"
     ]
    }
   ],
   "source": [
    "def rev(dna):\n",
    "    rev_dna=[]\n",
    "    for i in range(len(dna)):\n",
    "        if(dna[i]=='A'):\n",
    "            rev_dna.append('T')\n",
    "        elif(dna[i]=='C'):\n",
    "            rev_dna.append('G')\n",
    "        elif(dna[i]=='T'):\n",
    "            rev_dna.append('A')\n",
    "        elif(dna[i]=='G'):\n",
    "            rev_dna.append('C')\n",
    "    rev_dna.reverse()        \n",
    "    print(''.join(rev_dna))\n",
    "    \n",
    "dna=\"AAACCCGGT\"\n",
    "rev(dna)"
   ]
  },
  {
   "cell_type": "markdown",
   "metadata": {},
   "source": [
    "# profile of motifs"
   ]
  },
  {
   "cell_type": "code",
   "execution_count": 81,
   "metadata": {},
   "outputs": [
    {
     "data": {
      "text/plain": [
       "[[0.4, 0.4, 0.2, 0.2, 0.6, 0.0, 0.2, 0.4, 0.2, 0.0, 0.4, 0.0],\n",
       " [0.2, 0.2, 0.2, 0.2, 0.2, 0.2, 0.6, 0.2, 0.6, 0.8, 0.0, 0.0],\n",
       " [0.4, 0.4, 0.0, 0.4, 0.0, 0.8, 0.2, 0.4, 0.2, 0.2, 0.2, 0.6],\n",
       " [0.0, 0.0, 0.6, 0.2, 0.2, 0.0, 0.0, 0.0, 0.0, 0.0, 0.4, 0.4]]"
      ]
     },
     "execution_count": 81,
     "metadata": {},
     "output_type": "execute_result"
    }
   ],
   "source": [
    "def get_profile(motifs):\n",
    "    return[[j.count(i)/len(motifs) for j in zip(*motifs)] for i in 'ACGT']\n",
    "    \n",
    "motifs=['AAATTGACGCAT', 'GACGACCACGTT', 'CGTCAGCGCCTG', \n",
    "        'GCTGAGCACCGG', 'AGTACGGGACAG']\n",
    "get_profile(motifs)"
   ]
  },
  {
   "cell_type": "markdown",
   "metadata": {},
   "source": [
    "# count of motifs"
   ]
  },
  {
   "cell_type": "code",
   "execution_count": 82,
   "metadata": {},
   "outputs": [
    {
     "data": {
      "text/plain": [
       "[[2, 2, 1, 1, 3, 0, 1, 2, 1, 0, 2, 0],\n",
       " [1, 1, 1, 1, 1, 1, 3, 1, 3, 4, 0, 0],\n",
       " [2, 2, 0, 2, 0, 4, 1, 2, 1, 1, 1, 3],\n",
       " [0, 0, 3, 1, 1, 0, 0, 0, 0, 0, 2, 2]]"
      ]
     },
     "execution_count": 82,
     "metadata": {},
     "output_type": "execute_result"
    }
   ],
   "source": [
    "def get_profile(motifs):\n",
    "    return[[j.count(i) for j in zip(*motifs)] for i in 'ACGT']\n",
    "    \n",
    "motifs=['AAATTGACGCAT', 'GACGACCACGTT', 'CGTCAGCGCCTG', \n",
    "        'GCTGAGCACCGG', 'AGTACGGGACAG']\n",
    "get_profile(motifs)"
   ]
  },
  {
   "cell_type": "code",
   "execution_count": null,
   "metadata": {},
   "outputs": [],
   "source": []
  },
  {
   "cell_type": "code",
   "execution_count": 83,
   "metadata": {},
   "outputs": [
    {
     "data": {
      "text/plain": [
       "[[0.3333333333333333,\n",
       "  0.3333333333333333,\n",
       "  0.2222222222222222,\n",
       "  0.2222222222222222,\n",
       "  0.4444444444444444,\n",
       "  0.1111111111111111,\n",
       "  0.2222222222222222,\n",
       "  0.3333333333333333,\n",
       "  0.2222222222222222,\n",
       "  0.1111111111111111,\n",
       "  0.3333333333333333,\n",
       "  0.1111111111111111],\n",
       " [0.2222222222222222,\n",
       "  0.2222222222222222,\n",
       "  0.2222222222222222,\n",
       "  0.2222222222222222,\n",
       "  0.2222222222222222,\n",
       "  0.2222222222222222,\n",
       "  0.4444444444444444,\n",
       "  0.2222222222222222,\n",
       "  0.4444444444444444,\n",
       "  0.5555555555555556,\n",
       "  0.1111111111111111,\n",
       "  0.1111111111111111],\n",
       " [0.3333333333333333,\n",
       "  0.3333333333333333,\n",
       "  0.1111111111111111,\n",
       "  0.3333333333333333,\n",
       "  0.1111111111111111,\n",
       "  0.5555555555555556,\n",
       "  0.2222222222222222,\n",
       "  0.3333333333333333,\n",
       "  0.2222222222222222,\n",
       "  0.2222222222222222,\n",
       "  0.2222222222222222,\n",
       "  0.4444444444444444],\n",
       " [0.1111111111111111,\n",
       "  0.1111111111111111,\n",
       "  0.4444444444444444,\n",
       "  0.2222222222222222,\n",
       "  0.2222222222222222,\n",
       "  0.1111111111111111,\n",
       "  0.1111111111111111,\n",
       "  0.1111111111111111,\n",
       "  0.1111111111111111,\n",
       "  0.1111111111111111,\n",
       "  0.3333333333333333,\n",
       "  0.3333333333333333]]"
      ]
     },
     "execution_count": 83,
     "metadata": {},
     "output_type": "execute_result"
    }
   ],
   "source": [
    "def get_profile(motifs):\n",
    "    return[[(j.count(i)+1)/(len(motifs)+4) for j in zip(*motifs)] for i in 'ACGT']\n",
    "    \n",
    "motifs=['AAATTGACGCAT', 'GACGACCACGTT', 'CGTCAGCGCCTG', \n",
    "        'GCTGAGCACCGG', 'AGTACGGGACAG']\n",
    "get_profile(motifs)"
   ]
  },
  {
   "cell_type": "code",
   "execution_count": 84,
   "metadata": {},
   "outputs": [
    {
     "data": {
      "text/plain": [
       "[[3, 3, 2, 2, 4, 1, 2, 3, 2, 1, 3, 1],\n",
       " [2, 2, 2, 2, 2, 2, 4, 2, 4, 5, 1, 1],\n",
       " [3, 3, 1, 3, 1, 5, 2, 3, 2, 2, 2, 4],\n",
       " [1, 1, 4, 2, 2, 1, 1, 1, 1, 1, 3, 3]]"
      ]
     },
     "execution_count": 84,
     "metadata": {},
     "output_type": "execute_result"
    }
   ],
   "source": [
    "def get_profile(motifs):\n",
    "    return[[(j.count(i)+1) for j in zip(*motifs)] for i in 'ACGT']\n",
    "    \n",
    "motifs=['AAATTGACGCAT', 'GACGACCACGTT', 'CGTCAGCGCCTG', \n",
    "        'GCTGAGCACCGG', 'AGTACGGGACAG']\n",
    "get_profile(motifs)"
   ]
  },
  {
   "cell_type": "code",
   "execution_count": 85,
   "metadata": {},
   "outputs": [
    {
     "ename": "NameError",
     "evalue": "name 'count_motifs' is not defined",
     "output_type": "error",
     "traceback": [
      "\u001b[1;31m---------------------------------------------------------------------------\u001b[0m",
      "\u001b[1;31mNameError\u001b[0m                                 Traceback (most recent call last)",
      "\u001b[1;32m<ipython-input-85-c875ac749b1e>\u001b[0m in \u001b[0;36m<module>\u001b[1;34m\u001b[0m\n\u001b[0;32m     10\u001b[0m motifs=['AAATTGACGCAT', 'GACGACCACGTT', 'CGTCAGCGCCTG', \n\u001b[0;32m     11\u001b[0m         'GCTGAGCACCGG', 'AGTACGGGACAG']\n\u001b[1;32m---> 12\u001b[1;33m \u001b[0mScore_of_Motifs\u001b[0m\u001b[1;33m(\u001b[0m\u001b[0mmotifs\u001b[0m\u001b[1;33m)\u001b[0m\u001b[1;33m\u001b[0m\u001b[1;33m\u001b[0m\u001b[0m\n\u001b[0m",
      "\u001b[1;32m<ipython-input-85-c875ac749b1e>\u001b[0m in \u001b[0;36mScore_of_Motifs\u001b[1;34m(motifs)\u001b[0m\n\u001b[0;32m      1\u001b[0m \u001b[1;32mdef\u001b[0m \u001b[0mScore_of_Motifs\u001b[0m\u001b[1;33m(\u001b[0m\u001b[0mmotifs\u001b[0m\u001b[1;33m)\u001b[0m\u001b[1;33m:\u001b[0m\u001b[1;33m\u001b[0m\u001b[1;33m\u001b[0m\u001b[0m\n\u001b[1;32m----> 2\u001b[1;33m     \u001b[0marr\u001b[0m\u001b[1;33m=\u001b[0m\u001b[0mcount_motifs\u001b[0m\u001b[1;33m(\u001b[0m\u001b[0mmotifs\u001b[0m\u001b[1;33m)\u001b[0m\u001b[1;33m\u001b[0m\u001b[1;33m\u001b[0m\u001b[0m\n\u001b[0m\u001b[0;32m      3\u001b[0m     \u001b[0mscore\u001b[0m\u001b[1;33m=\u001b[0m\u001b[1;36m0\u001b[0m\u001b[1;33m\u001b[0m\u001b[1;33m\u001b[0m\u001b[0m\n\u001b[0;32m      4\u001b[0m     \u001b[1;32mfor\u001b[0m \u001b[0mi\u001b[0m \u001b[1;32min\u001b[0m \u001b[0mrange\u001b[0m\u001b[1;33m(\u001b[0m\u001b[0mlen\u001b[0m\u001b[1;33m(\u001b[0m\u001b[0marr\u001b[0m\u001b[1;33m[\u001b[0m\u001b[1;36m0\u001b[0m\u001b[1;33m]\u001b[0m\u001b[1;33m)\u001b[0m\u001b[1;33m)\u001b[0m\u001b[1;33m:\u001b[0m\u001b[1;33m\u001b[0m\u001b[1;33m\u001b[0m\u001b[0m\n\u001b[0;32m      5\u001b[0m         \u001b[0mmax1\u001b[0m\u001b[1;33m=\u001b[0m\u001b[1;36m0\u001b[0m\u001b[1;33m\u001b[0m\u001b[1;33m\u001b[0m\u001b[0m\n",
      "\u001b[1;31mNameError\u001b[0m: name 'count_motifs' is not defined"
     ]
    }
   ],
   "source": [
    "def Score_of_Motifs(motifs):\n",
    "    arr=count_motifs(motifs)\n",
    "    score=0\n",
    "    for i in range(len(arr[0])):\n",
    "        max1=0\n",
    "        for j in range(len(arr)):\n",
    "            max1=max(max1,arr[j][i])\n",
    "            score+=(len(arr)+1-max1)\n",
    "        return score\n",
    "motifs=['AAATTGACGCAT', 'GACGACCACGTT', 'CGTCAGCGCCTG', \n",
    "        'GCTGAGCACCGG', 'AGTACGGGACAG']\n",
    "Score_of_Motifs(motifs)\n"
   ]
  },
  {
   "cell_type": "code",
   "execution_count": 86,
   "metadata": {},
   "outputs": [
    {
     "ename": "NameError",
     "evalue": "name 'count_motifs' is not defined",
     "output_type": "error",
     "traceback": [
      "\u001b[1;31m---------------------------------------------------------------------------\u001b[0m",
      "\u001b[1;31mNameError\u001b[0m                                 Traceback (most recent call last)",
      "\u001b[1;32m<ipython-input-86-97cd52e21474>\u001b[0m in \u001b[0;36m<module>\u001b[1;34m\u001b[0m\n\u001b[0;32m     12\u001b[0m motifs=['AAATTGACGCAT', 'GACGACCACGTT', 'CGTCAGCGCCTG', \n\u001b[0;32m     13\u001b[0m         'GCTGAGCACCGG', 'AGTACGGGACAG']\n\u001b[1;32m---> 14\u001b[1;33m \u001b[0mScore_of_Motifs\u001b[0m\u001b[1;33m(\u001b[0m\u001b[0mmotifs\u001b[0m\u001b[1;33m)\u001b[0m\u001b[1;33m\u001b[0m\u001b[1;33m\u001b[0m\u001b[0m\n\u001b[0m",
      "\u001b[1;32m<ipython-input-86-97cd52e21474>\u001b[0m in \u001b[0;36mScore_of_Motifs\u001b[1;34m(motifs)\u001b[0m\n\u001b[0;32m      1\u001b[0m \u001b[1;32mdef\u001b[0m \u001b[0mScore_of_Motifs\u001b[0m\u001b[1;33m(\u001b[0m\u001b[0mmotifs\u001b[0m\u001b[1;33m)\u001b[0m\u001b[1;33m:\u001b[0m\u001b[1;33m\u001b[0m\u001b[1;33m\u001b[0m\u001b[0m\n\u001b[0;32m      2\u001b[0m \u001b[1;33m\u001b[0m\u001b[0m\n\u001b[1;32m----> 3\u001b[1;33m     \u001b[0marr\u001b[0m\u001b[1;33m=\u001b[0m\u001b[0mcount_motifs\u001b[0m\u001b[1;33m(\u001b[0m\u001b[0mmotifs\u001b[0m\u001b[1;33m)\u001b[0m\u001b[1;33m\u001b[0m\u001b[1;33m\u001b[0m\u001b[0m\n\u001b[0m\u001b[0;32m      4\u001b[0m     \u001b[0mscore\u001b[0m\u001b[1;33m=\u001b[0m\u001b[1;36m0\u001b[0m\u001b[1;33m\u001b[0m\u001b[1;33m\u001b[0m\u001b[0m\n\u001b[0;32m      5\u001b[0m     \u001b[1;32mfor\u001b[0m \u001b[0mi\u001b[0m \u001b[1;32min\u001b[0m \u001b[0mrange\u001b[0m\u001b[1;33m(\u001b[0m\u001b[0mlen\u001b[0m\u001b[1;33m(\u001b[0m\u001b[0marr\u001b[0m\u001b[1;33m[\u001b[0m\u001b[1;36m0\u001b[0m\u001b[1;33m]\u001b[0m\u001b[1;33m)\u001b[0m\u001b[1;33m)\u001b[0m\u001b[1;33m:\u001b[0m \u001b[1;31m#col\u001b[0m\u001b[1;33m\u001b[0m\u001b[1;33m\u001b[0m\u001b[0m\n",
      "\u001b[1;31mNameError\u001b[0m: name 'count_motifs' is not defined"
     ]
    }
   ],
   "source": [
    "def Score_of_Motifs(motifs):\n",
    "    \n",
    "    arr=count_motifs(motifs)\n",
    "    score=0\n",
    "    for i in range(len(arr[0])): #col\n",
    "        max1=0\n",
    "        for j in range(len(arr)): #row\n",
    "            max1=max( max1, arr[j][i])\n",
    "        score+=((len(arr)+1)-max1)\n",
    "    return score\n",
    "    \n",
    "motifs=['AAATTGACGCAT', 'GACGACCACGTT', 'CGTCAGCGCCTG', \n",
    "        'GCTGAGCACCGG', 'AGTACGGGACAG']\n",
    "Score_of_Motifs(motifs)"
   ]
  },
  {
   "cell_type": "code",
   "execution_count": 87,
   "metadata": {},
   "outputs": [
    {
     "ename": "NameError",
     "evalue": "name 'count_motifs' is not defined",
     "output_type": "error",
     "traceback": [
      "\u001b[1;31m---------------------------------------------------------------------------\u001b[0m",
      "\u001b[1;31mNameError\u001b[0m                                 Traceback (most recent call last)",
      "\u001b[1;32m<ipython-input-87-a8fd3d252299>\u001b[0m in \u001b[0;36m<module>\u001b[1;34m\u001b[0m\n\u001b[0;32m     23\u001b[0m motifs=['AAATTGACGCAT', 'GACGACCACGTT', 'CGTCAGCGCCTG', \n\u001b[0;32m     24\u001b[0m         'GCTGAGCACCGG', 'AGTACGGGACAG']\n\u001b[1;32m---> 25\u001b[1;33m \u001b[0mconsensus_string\u001b[0m\u001b[1;33m(\u001b[0m\u001b[0mmotifs\u001b[0m\u001b[1;33m)\u001b[0m\u001b[1;33m\u001b[0m\u001b[1;33m\u001b[0m\u001b[0m\n\u001b[0m",
      "\u001b[1;32m<ipython-input-87-a8fd3d252299>\u001b[0m in \u001b[0;36mconsensus_string\u001b[1;34m(motifs)\u001b[0m\n\u001b[0;32m      1\u001b[0m \u001b[1;32mdef\u001b[0m \u001b[0mconsensus_string\u001b[0m\u001b[1;33m(\u001b[0m\u001b[0mmotifs\u001b[0m\u001b[1;33m)\u001b[0m\u001b[1;33m:\u001b[0m\u001b[1;33m\u001b[0m\u001b[1;33m\u001b[0m\u001b[0m\n\u001b[0;32m      2\u001b[0m \u001b[1;33m\u001b[0m\u001b[0m\n\u001b[1;32m----> 3\u001b[1;33m     \u001b[0marr\u001b[0m\u001b[1;33m=\u001b[0m\u001b[0mcount_motifs\u001b[0m\u001b[1;33m(\u001b[0m\u001b[0mmotifs\u001b[0m\u001b[1;33m)\u001b[0m\u001b[1;33m\u001b[0m\u001b[1;33m\u001b[0m\u001b[0m\n\u001b[0m\u001b[0;32m      4\u001b[0m     \u001b[0mconsensus\u001b[0m\u001b[1;33m=\u001b[0m\u001b[1;34m''\u001b[0m\u001b[1;33m\u001b[0m\u001b[1;33m\u001b[0m\u001b[0m\n\u001b[0;32m      5\u001b[0m     \u001b[0mlen_motif\u001b[0m\u001b[1;33m=\u001b[0m\u001b[0mlen\u001b[0m\u001b[1;33m(\u001b[0m\u001b[0mmotifs\u001b[0m\u001b[1;33m[\u001b[0m\u001b[1;36m0\u001b[0m\u001b[1;33m]\u001b[0m\u001b[1;33m)\u001b[0m\u001b[1;33m\u001b[0m\u001b[1;33m\u001b[0m\u001b[0m\n",
      "\u001b[1;31mNameError\u001b[0m: name 'count_motifs' is not defined"
     ]
    }
   ],
   "source": [
    "def consensus_string(motifs):\n",
    "    \n",
    "    arr=count_motifs(motifs)\n",
    "    consensus=''\n",
    "    len_motif=len(motifs[0])\n",
    "    for i in range(len_motif): #col\n",
    "        max1=0\n",
    "        flag=0\n",
    "        for j in range(4): #row\n",
    "            if arr[j][i]>max1:\n",
    "                flag=j\n",
    "                max1=arr[j][i]\n",
    "        if flag==0:\n",
    "            consensus+='A'\n",
    "        elif flag==1:\n",
    "            consensus+='C'\n",
    "        elif flag==2:\n",
    "            consensus+='G'\n",
    "        elif flag==3:\n",
    "            consensus+='T'\n",
    "    return consensus\n",
    "\n",
    "motifs=['AAATTGACGCAT', 'GACGACCACGTT', 'CGTCAGCGCCTG', \n",
    "        'GCTGAGCACCGG', 'AGTACGGGACAG']\n",
    "consensus_string(motifs)"
   ]
  },
  {
   "cell_type": "code",
   "execution_count": 88,
   "metadata": {},
   "outputs": [
    {
     "data": {
      "text/plain": [
       "100000000"
      ]
     },
     "execution_count": 88,
     "metadata": {},
     "output_type": "execute_result"
    }
   ],
   "source": [
    "def coin_change(make,coins):\n",
    "    dp=[100000000 for i in range(make+1)]\n",
    "    dp[0]=0\n",
    "    for i in range(len(coins)):\n",
    "        for j in range(coins[i],make+1):\n",
    "            dp[j]=min(dp[j],dp[j-coins[i]+1])\n",
    "        return dp[make]\n",
    "    \n",
    "make=40\n",
    "coins=[1,5,10,20,50]\n",
    "coin_change(make,coins)\n"
   ]
  },
  {
   "cell_type": "code",
   "execution_count": 89,
   "metadata": {},
   "outputs": [
    {
     "data": {
      "text/plain": [
       "2"
      ]
     },
     "execution_count": 89,
     "metadata": {},
     "output_type": "execute_result"
    }
   ],
   "source": [
    "def coin_change(make, coins):\n",
    "    dp=[100000000 for i in range(make+1)]\n",
    "    \n",
    "    dp[0]=0\n",
    "    for i in range(len(coins)):\n",
    "        for j in range(coins[i], make+1):\n",
    "            dp[j]=min(dp[j], dp[j-coins[i]]+1)\n",
    "    \n",
    "    return dp[make]\n",
    "    \n",
    "make=40\n",
    "coins=[1,5,10,20,25,50]\n",
    "coin_change(make, coins)"
   ]
  },
  {
   "cell_type": "code",
   "execution_count": null,
   "metadata": {},
   "outputs": [],
   "source": []
  }
 ],
 "metadata": {
  "kernelspec": {
   "display_name": "Python 3",
   "language": "python",
   "name": "python3"
  },
  "language_info": {
   "codemirror_mode": {
    "name": "ipython",
    "version": 3
   },
   "file_extension": ".py",
   "mimetype": "text/x-python",
   "name": "python",
   "nbconvert_exporter": "python",
   "pygments_lexer": "ipython3",
   "version": "3.7.1"
  }
 },
 "nbformat": 4,
 "nbformat_minor": 2
}
